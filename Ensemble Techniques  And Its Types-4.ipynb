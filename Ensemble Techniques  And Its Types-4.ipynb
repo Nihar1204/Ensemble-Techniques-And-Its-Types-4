{
 "cells": [
  {
   "cell_type": "markdown",
   "metadata": {},
   "source": [
    "## Ensemble Techniques And Its Types Assignments-4"
   ]
  },
  {
   "cell_type": "code",
   "execution_count": 2,
   "metadata": {},
   "outputs": [],
   "source": [
    "# Q1. You are working on a machine learning project where you have a dataset containing numerical and\n",
    "# categorical features. You have identified that some of the features are highly correlated and there are\n",
    "# missing values in some of the columns. You want to build a pipeline that automates the feature\n",
    "# engineering process and handles the missing values.\n",
    "\n",
    "# Design a pipeline that includes the following steps:\n",
    "# Use an automated feature selection method to identify the important features in the datasetC\n",
    "# Create a numerical pipeline that includes the following steps\"\n",
    "# Impute the missing values in the numerical columns using the mean of the column valuesC\n",
    "# Scale the numerical columns using standardisationC\n",
    "# Create a categorical pipeline that includes the following steps\"\n",
    "# Impute the missing values in the categorical columns using the most frequent value of the columnC\n",
    "# One-hot encode the categorical columnsC\n",
    "# Combine the numerical and categorical pipelines using a ColumnTransformerC\n",
    "# Use a Random Forest Classifier to build the final modelC\n",
    "# Evaluate the accuracy of the model on the test dataset.\n",
    "\n",
    "# Ans:\n"
   ]
  },
  {
   "cell_type": "code",
   "execution_count": 4,
   "metadata": {},
   "outputs": [
    {
     "name": "stdout",
     "output_type": "stream",
     "text": [
      "Selected Features:  ['Glucose', 'BMI', 'Age']\n",
      "Model Accuracy: 0.7403\n"
     ]
    },
    {
     "name": "stderr",
     "output_type": "stream",
     "text": [
      "c:\\tools\\Anaconda3\\Lib\\site-packages\\sklearn\\base.py:486: UserWarning: X has feature names, but SelectFromModel was fitted without feature names\n",
      "  warnings.warn(\n"
     ]
    }
   ],
   "source": [
    "import pandas as pd\n",
    "import numpy as np\n",
    "from sklearn.model_selection import train_test_split\n",
    "from sklearn.ensemble import RandomForestClassifier\n",
    "from sklearn.impute import SimpleImputer\n",
    "from sklearn.preprocessing import StandardScaler, OneHotEncoder\n",
    "from sklearn.compose import ColumnTransformer\n",
    "from sklearn.pipeline import Pipeline\n",
    "from sklearn.feature_selection import SelectFromModel\n",
    "from sklearn.metrics import accuracy_score\n",
    "\n",
    "\n",
    "# Load the dataset\n",
    "df = pd.read_csv(r\"DataSource\\diabetes.csv\")\n",
    "\n",
    "\n",
    "# Define target column \n",
    "target = 'Outcome'\n",
    "X = df.drop(columns=[target])\n",
    "y = df[target]\n",
    "\n",
    "# Identify numerical and categorical columns\n",
    "numerical_features = df.select_dtypes(include=['int64', 'float64']).columns.tolist()\n",
    "categorical_features = df.select_dtypes(include=['object']).columns.tolist()\n",
    "\n",
    "\n",
    "# Feature Selection\n",
    "# Train a RandomForest model to identify important features\n",
    "rf_selector = RandomForestClassifier(n_estimators=100, random_state=42)\n",
    "rf_selector.fit(X.fillna(0), y)  # Filling NaN with 0 temporarily\n",
    "\n",
    "# Select important features\n",
    "selector = SelectFromModel(rf_selector, threshold=\"mean\", prefit=True)\n",
    "X_selected = selector.transform(X.fillna(0))\n",
    "\n",
    "# Get selected feature names\n",
    "selected_features = X.columns[selector.get_support()]\n",
    "print(\"Selected Features: \", selected_features.tolist())\n",
    "\n",
    "# Update feature lists\n",
    "numerical_features = [col for col in selected_features if col in numerical_features]\n",
    "categorical_features = [col for col in selected_features if col in categorical_features]\n",
    "\n",
    "# Create pipeline for numerical features\n",
    "num_pipeline = Pipeline([\n",
    "    ('imputer', SimpleImputer(strategy='mean')),  # Fill missing values with mean\n",
    "    ('scaler', StandardScaler())  # Standardize numerical features\n",
    "])\n",
    "\n",
    "\n",
    "# Create pipeline for categorical features\n",
    "cat_pipeline = Pipeline([\n",
    "    ('imputer', SimpleImputer(strategy='most_frequent')),  # Fill missing values with mode\n",
    "    ('encoder', OneHotEncoder(handle_unknown='ignore'))  # One-hot encode categorical variables\n",
    "])\n",
    "\n",
    "# Combine Pipelines using ColumnTransformer\n",
    "preprocessor = ColumnTransformer([\n",
    "    ('num', num_pipeline, numerical_features),\n",
    "    ('cat', cat_pipeline, categorical_features)\n",
    "])\n",
    "\n",
    "# Build the Final Pipeline with Random Forest\n",
    "model_pipeline = Pipeline([\n",
    "    ('preprocessor', preprocessor),\n",
    "    ('classifier', RandomForestClassifier(n_estimators=100, random_state=42))\n",
    "])\n",
    "\n",
    "\n",
    "# Split the dataset into training and testing sets\n",
    "X_train, X_test, y_train, y_test = train_test_split(X[selected_features], y, test_size=0.2, random_state=42)\n",
    "\n",
    "# Train the model\n",
    "model_pipeline.fit(X_train, y_train)\n",
    "\n",
    "# Make predictions\n",
    "y_pred = model_pipeline.predict(X_test)\n",
    "\n",
    "# Evaluate the model\n",
    "accuracy = accuracy_score(y_test, y_pred)\n",
    "print(f\"Model Accuracy: {accuracy:.4f}\")\n"
   ]
  },
  {
   "cell_type": "code",
   "execution_count": 5,
   "metadata": {},
   "outputs": [],
   "source": [
    "# Interpretation of Results:\n",
    "\n",
    "# Feature Selection: The model automatically selects the most relevant features, reducing noise and \n",
    "# improving performance.\n",
    "# Missing Values Handling: The numerical columns use mean imputation, while categorical columns use mode imputation.\n",
    "# Preprocessing: Standardization ensures numerical features have a mean of 0 and variance of 1, and \n",
    "# one-hot encoding makes categorical data usable for Random Forest.\n",
    "# Performance: Accuracy provides insight into model effectiveness. If the accuracy is low, consider \n",
    "# hyperparameter tuning or using different feature engineering techniques.\n",
    "\n",
    "# Possible Improvements:\n",
    "# Different Feature Selection Methods:\n",
    "# We can use mutual_info_classif for feature selection instead of Random Forest.\n",
    "# We also can apply Recursive Feature Elimination (RFE).\n",
    "\n",
    "# Experiment with Hyperparameter Tuning:\n",
    "# We can use GridSearchCV or RandomizedSearchCV to optimize n_estimators, max_depth, and other hyperparameters.\n",
    "# Handle Class Imbalance:\n",
    "# If the dataset is imbalanced, then we can use SMOTE (Synthetic Minority Over-sampling Technique).\n",
    "# Try Different Models:\n",
    "# We can Gradient Boosting, XGBoost, or CatBoost for better accuracy."
   ]
  },
  {
   "cell_type": "code",
   "execution_count": 6,
   "metadata": {},
   "outputs": [
    {
     "name": "stdout",
     "output_type": "stream",
     "text": [
      "Voting Classifier Accuracy: 1.0000\n"
     ]
    }
   ],
   "source": [
    "# Import the necessary packages only\n",
    "from sklearn.datasets import load_iris\n",
    "from sklearn.ensemble import RandomForestClassifier, VotingClassifier\n",
    "from sklearn.linear_model import LogisticRegression\n",
    "\n",
    "\n",
    "# Load the Iris dataset\n",
    "iris = load_iris()\n",
    "X = iris.data\n",
    "y = iris.target\n",
    "\n",
    "# Split into training and testing sets\n",
    "X_train, X_test, y_train, y_test = train_test_split(X, y, test_size=0.2, random_state=42)\n",
    "\n",
    "\n",
    "# Pipeline for Logistic Regression\n",
    "logistic_pipeline = Pipeline([\n",
    "    ('scaler', StandardScaler()),  # Standardizing features\n",
    "    ('logistic', LogisticRegression(max_iter=200))\n",
    "])\n",
    "\n",
    "\n",
    "# Pipeline for Random Forest\n",
    "random_forest_pipeline = Pipeline([\n",
    "    ('random_forest', RandomForestClassifier(n_estimators=100, random_state=42))\n",
    "])\n",
    "\n",
    "# Create a Voting Classifier\n",
    "voting_clf = VotingClassifier(\n",
    "    estimators=[\n",
    "        ('logistic', logistic_pipeline),\n",
    "        ('random_forest', random_forest_pipeline)\n",
    "    ],\n",
    "    voting='hard'  # Hard voting: Majority class prediction\n",
    ")\n",
    "\n",
    "# Train the voting classifier\n",
    "voting_clf.fit(X_train, y_train)\n",
    "\n",
    "# Make predictions\n",
    "y_pred = voting_clf.predict(X_test)\n",
    "\n",
    "# Evaluate model accuracy\n",
    "accuracy = accuracy_score(y_test, y_pred)\n",
    "print(f\"Voting Classifier Accuracy: {accuracy:.4f}\")\n"
   ]
  },
  {
   "cell_type": "code",
   "execution_count": null,
   "metadata": {},
   "outputs": [],
   "source": []
  },
  {
   "cell_type": "code",
   "execution_count": null,
   "metadata": {},
   "outputs": [],
   "source": []
  },
  {
   "cell_type": "code",
   "execution_count": null,
   "metadata": {},
   "outputs": [],
   "source": []
  },
  {
   "cell_type": "code",
   "execution_count": null,
   "metadata": {},
   "outputs": [],
   "source": []
  },
  {
   "cell_type": "code",
   "execution_count": null,
   "metadata": {},
   "outputs": [],
   "source": []
  }
 ],
 "metadata": {
  "kernelspec": {
   "display_name": "base",
   "language": "python",
   "name": "python3"
  },
  "language_info": {
   "codemirror_mode": {
    "name": "ipython",
    "version": 3
   },
   "file_extension": ".py",
   "mimetype": "text/x-python",
   "name": "python",
   "nbconvert_exporter": "python",
   "pygments_lexer": "ipython3",
   "version": "3.12.4"
  }
 },
 "nbformat": 4,
 "nbformat_minor": 2
}
